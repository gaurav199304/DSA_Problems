{
 "cells": [
  {
   "cell_type": "code",
   "execution_count": 9,
   "id": "af64547b-5175-486e-98a9-b5e94f6e5507",
   "metadata": {},
   "outputs": [],
   "source": [
    "class Solution(object):\n",
    "    def twoSum(self, nums, target):\n",
    "        #to check index of original list create temp list\n",
    "        temp=list(nums)\n",
    "        #sort list in asc order so that sum will be in increasing order\n",
    "        nums.sort()\n",
    "        #mention start and end index of list\n",
    "        start=0 \n",
    "        end=len(nums)-1\n",
    "        #till end value becomes less than start value this while loop will run\n",
    "        while start < end:\n",
    "            #sum of start and end\n",
    "            current_sum = nums[start] + nums[end]\n",
    "            #if sum is equal to target\n",
    "            if current_sum == target:\n",
    "                #create empty list to return answer\n",
    "                ans=[]\n",
    "                #itterate through each element in temp to get the original index value\n",
    "                for i in range(len(temp)):\n",
    "                    #if start or end value of sorted list is equal to original value then append in ans list\n",
    "                    if nums[start] == temp[i] or nums[end] == temp[i]:\n",
    "                        ans.append(i)\n",
    "                return ans\n",
    "            #if current sum is greater than target then decrease end value by 1 else increase value of start by 1\n",
    "            if current_sum > target:\n",
    "                end -=1\n",
    "            else:\n",
    "                start +=1\n",
    "        #if start is greater than end value then return -1\n",
    "        return -1"
   ]
  },
  {
   "cell_type": "code",
   "execution_count": 11,
   "id": "69780300-3b3a-4514-afc1-e4bf486f9b11",
   "metadata": {},
   "outputs": [
    {
     "name": "stdout",
     "output_type": "stream",
     "text": [
      "[0, 3]\n"
     ]
    }
   ],
   "source": [
    "myobj=Solution()\n",
    "givenNums=[2,1,10,5,7]\n",
    "target=7\n",
    "print(myobj.twoSum(givenNums, target))\n"
   ]
  }
 ],
 "metadata": {
  "kernelspec": {
   "display_name": "Python 3 (ipykernel)",
   "language": "python",
   "name": "python3"
  },
  "language_info": {
   "codemirror_mode": {
    "name": "ipython",
    "version": 3
   },
   "file_extension": ".py",
   "mimetype": "text/x-python",
   "name": "python",
   "nbconvert_exporter": "python",
   "pygments_lexer": "ipython3",
   "version": "3.13.1"
  }
 },
 "nbformat": 4,
 "nbformat_minor": 5
}
