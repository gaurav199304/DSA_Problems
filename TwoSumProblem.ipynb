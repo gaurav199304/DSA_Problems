{
 "cells": [
  {
   "cell_type": "code",
   "execution_count": 36,
   "id": "af64547b-5175-486e-98a9-b5e94f6e5507",
   "metadata": {},
   "outputs": [],
   "source": [
    "def two_sum(givenNums, target):\n",
    "    temp=givenNums.copy()\n",
    "    givenNums.sort()\n",
    "    start=0 \n",
    "    end=len(givenNums)-1\n",
    "\n",
    "    while start < end:\n",
    "        current_sum = givenNums[start] + givenNums[end]\n",
    "        if current_sum == target:\n",
    "            ans=[]\n",
    "            for i in range(len(temp)):\n",
    "                if givenNums[start] == temp[i] or givenNums[end] == temp[i]:\n",
    "                    ans.append(i)\n",
    "            return ans\n",
    "            \n",
    "        if current_sum > target:\n",
    "            end -=1\n",
    "        else:\n",
    "            start +=1\n",
    "            \n",
    "    return -1"
   ]
  },
  {
   "cell_type": "code",
   "execution_count": 37,
   "id": "69780300-3b3a-4514-afc1-e4bf486f9b11",
   "metadata": {},
   "outputs": [
    {
     "name": "stdout",
     "output_type": "stream",
     "text": [
      "[0, 3]\n"
     ]
    }
   ],
   "source": [
    "givenNums=[2,1,10,5,7]\n",
    "print(two_sum(givenNums, 7))"
   ]
  }
 ],
 "metadata": {
  "kernelspec": {
   "display_name": "Python 3 (ipykernel)",
   "language": "python",
   "name": "python3"
  },
  "language_info": {
   "codemirror_mode": {
    "name": "ipython",
    "version": 3
   },
   "file_extension": ".py",
   "mimetype": "text/x-python",
   "name": "python",
   "nbconvert_exporter": "python",
   "pygments_lexer": "ipython3",
   "version": "3.13.1"
  }
 },
 "nbformat": 4,
 "nbformat_minor": 5
}
